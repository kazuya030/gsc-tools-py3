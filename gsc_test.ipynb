{
 "cells": [
  {
   "cell_type": "code",
   "execution_count": null,
   "metadata": {
    "collapsed": false
   },
   "outputs": [],
   "source": [
    "#!/usr/bin/python\n",
    "# -*- coding: utf-8 -*-\n",
    "#\n",
    "# This code is changed from\n",
    "# https://github.com/google/google-api-python-client/blob/0eaa280ba12a28fac16ff72e9ffaafc4016ab901/samples/searchconsole/search_analytics_api_sample.py\n",
    "#\n",
    "# outh2client\n",
    "# https://github.com/google/oauth2client\n",
    "# quick start\n",
    "# https://developers.google.com/webmaster-tools/v3/quickstart/quickstart-python#step_3_set_up_the_sample\n",
    "\n",
    "from __future__ import print_function\n",
    "from __future__ import unicode_literals\n",
    "from __future__ import absolute_import\n",
    "from __future__ import generators\n",
    "from __future__ import division\n",
    "\n",
    "import os\n",
    "import httplib2\n",
    "import datetime\n",
    "import pandas as pd\n",
    "from oauth2client import client\n",
    "from oauth2client import tools\n",
    "from oauth2client import file\n",
    "from googleapiclient import discovery\n",
    "\n",
    "\n",
    "def execute_request(service, property_uri, request):\n",
    "    \"\"\"Executes a searchAnalytics.query request.\n",
    "\n",
    "    Args:\n",
    "      service: The webmasters service to use when executing the query.\n",
    "      property_uri: The site or app URI to request data for.\n",
    "      request: The request to be executed.\n",
    "\n",
    "    Returns:\n",
    "      An array of response rows.\n",
    "    \"\"\"\n",
    "    res = service.searchanalytics().query(\n",
    "        siteUrl=property_uri, body=request).execute()\n",
    "    res_df = pd.DataFrame.from_dict(res['rows'])\n",
    "    # print(res_df)\n",
    "    return res_df\n",
    "\n",
    "\n",
    "# exec\n",
    "cwd = os.getcwd()\n",
    "if cwd.find('gsc-tools-py3') == -1:\n",
    "    cwd += '/github/gsc-tools-py3'\n",
    "\n",
    "# client_secrets = os.path.join(os.path.dirname(__file__), 'client_secrets.json')\n",
    "client_secrets = cwd+'/client_secrets.json'\n",
    "\n",
    "flow = client.flow_from_clientsecrets(client_secrets,\n",
    "                                      scope='https://www.googleapis.com/auth/webmasters.readonly',\n",
    "                                      message=tools.message_if_missing(client_secrets))\n",
    "\n",
    "storage = file.Storage(cwd+'/credentials.dat')\n",
    "credentials = storage.get()  # type: client.OAuth2Credentials\n",
    "if credentials is None or credentials.invalid:\n",
    "    credentials = tools.run_flow(flow, storage)\n",
    "\n",
    "# Create an httplib2.Http object and authorize it with our credentials\n",
    "http = credentials.authorize(http=httplib2.Http())\n",
    "service = discovery.build('webmasters', 'v3', http=http)\n",
    "site_list = service.sites().list().execute()\n",
    "verified_sites_urls = [s['siteUrl'] for s in site_list['siteEntry'] if s['permissionLevel'] != 'siteUnverifiedUser']\n",
    "\n",
    "# print(verified_sites_urls)"
   ]
  },
  {
   "cell_type": "code",
   "execution_count": null,
   "metadata": {
    "collapsed": false
   },
   "outputs": [],
   "source": [
    "start_date = (datetime.date.today() - datetime.timedelta(weeks=4)).strftime('%Y-%m-%d')\n",
    "end_date = datetime.date.today().strftime('%Y-%m-%d')\n",
    "property_uri = verified_sites_urls[0]\n",
    "\n",
    "# print(property_uri, start_date, end_date)\n",
    "print(start_date, end_date)"
   ]
  },
  {
   "cell_type": "code",
   "execution_count": null,
   "metadata": {
    "collapsed": false
   },
   "outputs": [],
   "source": [
    "# First run a query to learn which dates we have data for. You should always\n",
    "# check which days in a date range have data before running your main query.\n",
    "# This query shows data for the entire range, grouped and sorted by day,\n",
    "# descending; any days without data will be missing from the results.\n",
    "request = {\n",
    "    'startDate': start_date,\n",
    "    'endDate': end_date,\n",
    "    'dimensions': ['date']\n",
    "}\n",
    "res_date = execute_request(service, property_uri, request)"
   ]
  },
  {
   "cell_type": "code",
   "execution_count": null,
   "metadata": {
    "collapsed": false
   },
   "outputs": [],
   "source": [
    "# Get top 10 queries for the date range, sorted by click count, descending.\n",
    "request = {\n",
    "    'startDate': start_date,\n",
    "    'endDate': end_date,\n",
    "    'dimensions': ['query'],\n",
    "    'rowLimit': 10\n",
    "}\n",
    "print('###  top10 queries')\n",
    "res_query = execute_request(service, property_uri, request)"
   ]
  },
  {
   "cell_type": "code",
   "execution_count": null,
   "metadata": {
    "collapsed": false
   },
   "outputs": [],
   "source": [
    "# Get top 11-20 mobile queries for the date range, sorted by click count, descending.\n",
    "request = {\n",
    "    'startDate': start_date,\n",
    "    'endDate': end_date,\n",
    "    'dimensions': ['query'],\n",
    "    'dimensionFilterGroups': [{\n",
    "        'filters': [{\n",
    "            'dimension': 'device',\n",
    "            'expression': 'mobile'\n",
    "        }]\n",
    "    }],\n",
    "    'rowLimit': 10,\n",
    "    'startRow': 10\n",
    "}\n",
    "print('###  11-20 mobile queries')\n",
    "res_q_mobile = execute_request(service, property_uri, request)"
   ]
  },
  {
   "cell_type": "code",
   "execution_count": null,
   "metadata": {
    "collapsed": false
   },
   "outputs": [],
   "source": [
    "# Get top 10 pages for the date range, sorted by click count, descending.\n",
    "request = {\n",
    "    'startDate': start_date,\n",
    "    'endDate': end_date,\n",
    "    'dimensions': ['page'],\n",
    "    'rowLimit': 10\n",
    "}\n",
    "print('###  top10 pages')\n",
    "res_page = execute_request(service, property_uri, request)"
   ]
  },
  {
   "cell_type": "code",
   "execution_count": null,
   "metadata": {
    "collapsed": false
   },
   "outputs": [],
   "source": [
    "# Get the top 10 queries in India, sorted by click count, descending.\n",
    "request = {\n",
    "    'startDate': start_date,\n",
    "    'endDate': end_date,\n",
    "    'dimensions': ['query'],\n",
    "    'dimensionFilterGroups': [{\n",
    "        'filters': [{\n",
    "            'dimension': 'country',\n",
    "            'expression': 'jpn'\n",
    "        }]\n",
    "    }],\n",
    "    'rowLimit': 10\n",
    "}\n",
    "print('###  top10 queries in Japan')\n",
    "res_query_jpn = execute_request(service, property_uri, request)"
   ]
  },
  {
   "cell_type": "code",
   "execution_count": null,
   "metadata": {
    "collapsed": false
   },
   "outputs": [],
   "source": [
    "# Group by both country and device.\n",
    "request = {\n",
    "    'startDate': start_date,\n",
    "    'endDate': end_date,\n",
    "    'dimensions': ['country', 'device'],\n",
    "    'rowLimit': 10\n",
    "}\n",
    "print('###  group by country and device')\n",
    "res_country_device = execute_request(service, property_uri, request)"
   ]
  },
  {
   "cell_type": "code",
   "execution_count": null,
   "metadata": {
    "collapsed": false
   },
   "outputs": [],
   "source": [
    "from bokeh.charts import Scatter, output_file, show\n",
    "from bokeh.io import output_notebook\n",
    "\n",
    "output_notebook()\n",
    "\n",
    "s = Scatter(res_query, x='impressions', y='clicks', title='bokeh test', y_mapper_type='log', x_mapper_type='log')\n",
    "show(s)"
   ]
  },
  {
   "cell_type": "code",
   "execution_count": null,
   "metadata": {
    "collapsed": true
   },
   "outputs": [],
   "source": []
  }
 ],
 "metadata": {
  "kernelspec": {
   "display_name": "Python 3",
   "language": "python",
   "name": "python3"
  },
  "language_info": {
   "codemirror_mode": {
    "name": "ipython",
    "version": 3
   },
   "file_extension": ".py",
   "mimetype": "text/x-python",
   "name": "python",
   "nbconvert_exporter": "python",
   "pygments_lexer": "ipython3",
   "version": "3.4.4"
  }
 },
 "nbformat": 4,
 "nbformat_minor": 0
}
